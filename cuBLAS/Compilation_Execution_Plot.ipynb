{
  "nbformat": 4,
  "nbformat_minor": 0,
  "metadata": {
    "colab": {
      "provenance": []
    },
    "kernelspec": {
      "name": "python3",
      "display_name": "Python 3"
    },
    "language_info": {
      "name": "python"
    },
    "accelerator": "GPU",
    "gpuClass": "standard"
  },
  "cells": [
    {
      "cell_type": "markdown",
      "metadata": {
        "id": "view-in-github"
      },
      "source": [
        "<a href=\"https://colab.research.google.com/github/verach3n/DD2360HT22/blob/main/ex_4.ipynb\" target=\"_parent\"><img src=\"https://colab.research.google.com/assets/colab-badge.svg\" alt=\"Open In Colab\"/></a>"
      ]
    },
    {
      "cell_type": "code",
      "source": [
        "from google.colab import drive\n",
        "drive.mount('/content/drive')"
      ],
      "metadata": {
        "colab": {
          "base_uri": "https://localhost:8080/"
        },
        "id": "FkkS_U--dNlK",
        "outputId": "9139d8bf-722b-49f8-f323-05f8046df1e5"
      },
      "execution_count": 8,
      "outputs": [
        {
          "output_type": "stream",
          "name": "stdout",
          "text": [
            "Mounted at /content/drive\n"
          ]
        }
      ]
    },
    {
      "cell_type": "markdown",
      "source": [
        "# **LU Decomposition**"
      ],
      "metadata": {
        "id": "yNU4h0i9d6zh"
      }
    },
    {
      "cell_type": "code",
      "source": [
        "%cd '/content/drive/MyDrive/ColabNotebooks/DD2360/project/lud/cuda'\n",
        "!ls\n",
        "!make clean\n",
        "!make KERNEL_DIM=\"-DRD_WG_SIZE_0=64\""
      ],
      "metadata": {
        "colab": {
          "base_uri": "https://localhost:8080/"
        },
        "id": "9ep2c-fH2uTv",
        "outputId": "8f5a4740-0fcf-4137-82a1-ba29d427164e"
      },
      "execution_count": 54,
      "outputs": [
        {
          "output_type": "stream",
          "name": "stdout",
          "text": [
            "rm -f lud_cuda ../common/common.o lud.o lud_kernel.o *.linkinfo\n",
            "nvcc -DRD_WG_SIZE_0=64 -I../common -O3 -use_fast_math -arch=sm_75 -lm -lcublas  -DGPU_TIMER  -o ../common/common.o -c ../common/common.c\n",
            "\u001b[01m\u001b[K../common/common.c:\u001b[m\u001b[K In function ‘\u001b[01m\u001b[Kcreate_matrix_from_file\u001b[m\u001b[K’:\n",
            "\u001b[01m\u001b[K../common/common.c:51:3:\u001b[m\u001b[K \u001b[01;35m\u001b[Kwarning: \u001b[m\u001b[Kignoring return value of ‘\u001b[01m\u001b[Kfscanf\u001b[m\u001b[K’, declared with attribute warn_unused_result [\u001b[01;35m\u001b[K-Wunused-result\u001b[m\u001b[K]\n",
            "   \u001b[01;35m\u001b[Kfscanf(fp, \"%d\\n\", &size)\u001b[m\u001b[K;\n",
            "   \u001b[01;35m\u001b[K^~~~~~~~~~~~~~~~~~~~~~~~~\u001b[m\u001b[K\n",
            "\u001b[01m\u001b[K../common/common.c:61:11:\u001b[m\u001b[K \u001b[01;35m\u001b[Kwarning: \u001b[m\u001b[Kignoring return value of ‘\u001b[01m\u001b[Kfscanf\u001b[m\u001b[K’, declared with attribute warn_unused_result [\u001b[01;35m\u001b[K-Wunused-result\u001b[m\u001b[K]\n",
            "           \u001b[01;35m\u001b[Kfscanf(fp, \"%f \", m+i*size+j)\u001b[m\u001b[K;\n",
            "           \u001b[01;35m\u001b[K^~~~~~~~~~~~~~~~~~~~~~~~~~~~~\u001b[m\u001b[K\n",
            "nvcc -DRD_WG_SIZE_0=64 -I../common -O3 -use_fast_math -arch=sm_75 -lm -lcublas  -DGPU_TIMER  -o lud.o -c lud.cu\n",
            "nvcc -DRD_WG_SIZE_0=64 -I../common -O3 -use_fast_math -arch=sm_75 -lm -lcublas  -DGPU_TIMER  -o lud_kernel.o -c lud_kernel.cu\n",
            "nvcc -I../common -O3 -use_fast_math -arch=sm_75 -lm -lcublas  -o lud_cuda  ../common/common.o lud.o lud_kernel.o\n"
          ]
        }
      ]
    },
    {
      "cell_type": "code",
      "source": [
        "!ls\n",
        "!./lud_cuda -s 20000"
      ],
      "metadata": {
        "colab": {
          "base_uri": "https://localhost:8080/"
        },
        "id": "Kw32FIsP6j5v",
        "outputId": "369599bc-e484-454d-efa0-328d876b4a57"
      },
      "execution_count": 55,
      "outputs": [
        {
          "output_type": "stream",
          "name": "stdout",
          "text": [
            "lud.cu\t  lud_kernel.cu  lud.o\t   managedm  README\n",
            "lud_cuda  lud_kernel.o\t Makefile  pinnedm   regular\n",
            "WG size of kernel = 64 X 64\n",
            "Generate input matrix internally, size =2\n",
            "Creating matrix internally size=2\n",
            "Time consumed(ms): 80.117000\n",
            "10.000000 9.990005 \n",
            "9.990005 10.000000 \n"
          ]
        }
      ]
    },
    {
      "cell_type": "markdown",
      "source": [
        "# **Gaussian**"
      ],
      "metadata": {
        "id": "A3Doi06WqWug"
      }
    },
    {
      "cell_type": "markdown",
      "source": [
        "## 1) Managed memory"
      ],
      "metadata": {
        "id": "5EvARY8L1gHP"
      }
    },
    {
      "cell_type": "code",
      "source": [
        "%cd '/content/drive/MyDrive/ColabNotebooks/DD2360/project/gaussian/managedm'\n",
        "!ls\n",
        "!make\n",
        "!cp gaussian_managedm ../"
      ],
      "metadata": {
        "colab": {
          "base_uri": "https://localhost:8080/"
        },
        "id": "FW4GlHkXqbJ5",
        "outputId": "f906003d-9167-4459-b99f-69cabc66ca5e"
      },
      "execution_count": 47,
      "outputs": [
        {
          "output_type": "stream",
          "name": "stdout",
          "text": [
            "/content/drive/MyDrive/ColabNotebooks/DD2360/project/gaussian/managedm\n",
            "datatrans_managedm.txt\tgaussian_manegedm.cu  mdt2_output.txt\n",
            "gaussian.cu\t\tMakefile\t      mdt3_output.txt\n",
            "gaussian_managedm\tmdt1_output.txt       run.sh\n",
            "/usr/local/cuda/bin/nvcc   gaussian.cu -o gaussian_managedm -I/usr/local/cuda/include -L/usr/local/cuda/lib64 -lcublas\n",
            "gaussian.cu(92): warning: variable \"verbose\" was set but never used\n",
            "\n"
          ]
        }
      ]
    },
    {
      "cell_type": "code",
      "source": [
        "!./gaussian_managedm -s 3"
      ],
      "metadata": {
        "colab": {
          "base_uri": "https://localhost:8080/"
        },
        "id": "_dNGRyJ49V-g",
        "outputId": "d1d63c16-a19e-4aa7-a171-c7d2d53bfefd"
      },
      "execution_count": 25,
      "outputs": [
        {
          "output_type": "stream",
          "name": "stdout",
          "text": [
            "WG size of kernel 1 = 512, WG size of kernel 2= 4 X 4\n",
            "Create matrix internally in parse, size = 3 \n",
            "\n",
            "Time total (including memory transfers)\t0.000102 sec\n",
            "src/tcmalloc.cc:283] Attempt to free invalid pointer 0x7f791a001000 \n"
          ]
        }
      ]
    },
    {
      "cell_type": "code",
      "source": [
        "!bash ./run.sh"
      ],
      "metadata": {
        "id": "u4lx-LYTJrgz"
      },
      "execution_count": null,
      "outputs": []
    },
    {
      "cell_type": "code",
      "source": [
        "!grep 'cudaMallocManaged' datatrans_managedm.txt > mdt1_output.txt"
      ],
      "metadata": {
        "id": "zNkEsgbnO2Dj"
      },
      "execution_count": 48,
      "outputs": []
    },
    {
      "cell_type": "code",
      "source": [
        "!awk '{print $2}' mdt1_output.txt > mdt2_output.txt"
      ],
      "metadata": {
        "id": "TTWJmtn0QLHw"
      },
      "execution_count": 49,
      "outputs": []
    },
    {
      "cell_type": "code",
      "source": [
        "!sed 's/[a-zA-Z]//g' mdt2_output.txt > mdt3_output.txt"
      ],
      "metadata": {
        "id": "NqE6Bn3ZUR8x"
      },
      "execution_count": 50,
      "outputs": []
    },
    {
      "cell_type": "code",
      "source": [
        "!cp mdt3_output.txt ../"
      ],
      "metadata": {
        "id": "XvY6_7Ejfuhu"
      },
      "execution_count": 52,
      "outputs": []
    },
    {
      "cell_type": "markdown",
      "source": [
        "## 2) Pinned memory"
      ],
      "metadata": {
        "id": "AQBF-eeP1lsD"
      }
    },
    {
      "cell_type": "code",
      "source": [
        "%cd '/content/drive/MyDrive/ColabNotebooks/DD2360/project/gaussian/pinnedm'\n",
        "!ls\n",
        "!make\n",
        "!cp gaussian_pinnedm ../"
      ],
      "metadata": {
        "colab": {
          "base_uri": "https://localhost:8080/"
        },
        "id": "12bRL-UU1oeF",
        "outputId": "47466bbd-44e0-45cd-bca0-257fb93f57a1"
      },
      "execution_count": 53,
      "outputs": [
        {
          "output_type": "stream",
          "name": "stdout",
          "text": [
            "/content/drive/MyDrive/ColabNotebooks/DD2360/project/gaussian/pinnedm\n",
            "datatrans_pinnedm.txt  gaussian_pinnedm.cu  pdt2_output.txt\n",
            "gaussian.cu\t       Makefile\t\t    pdt3_output.txt\n",
            "gaussian_pinnedm       pdt1_output.txt\t    run.sh\n",
            "/usr/local/cuda/bin/nvcc   gaussian.cu -o gaussian_pinnedm -I/usr/local/cuda/include -L/usr/local/cuda/lib64 -lcublas\n",
            "gaussian.cu(93): warning: variable \"verbose\" was set but never used\n",
            "\n"
          ]
        }
      ]
    },
    {
      "cell_type": "code",
      "source": [
        "!./gaussian_pinnedm -s 3"
      ],
      "metadata": {
        "colab": {
          "base_uri": "https://localhost:8080/"
        },
        "id": "L8Cbww7K2mZO",
        "outputId": "6c898d28-9bfe-4d9c-e9c2-68a17224ea17"
      },
      "execution_count": 36,
      "outputs": [
        {
          "output_type": "stream",
          "name": "stdout",
          "text": [
            "WG size of kernel 1 = 512, WG size of kernel 2= 4 X 4\n",
            "Create matrix internally in parse, size = 3 \n",
            "\n",
            "Time total (including memory transfers)\t0.077048 sec\n"
          ]
        }
      ]
    },
    {
      "cell_type": "code",
      "source": [
        "!bash ./run.sh"
      ],
      "metadata": {
        "id": "prYca6dybxQF"
      },
      "execution_count": null,
      "outputs": []
    },
    {
      "cell_type": "code",
      "source": [
        "!grep 'cudaMallocHost' datatrans_pinnedm.txt > pdt1_output.txt"
      ],
      "metadata": {
        "id": "94SG0y5Nb3sR"
      },
      "execution_count": 30,
      "outputs": []
    },
    {
      "cell_type": "code",
      "source": [
        "!awk '{print $2}' pdt1_output.txt > pdt2_output.txt"
      ],
      "metadata": {
        "id": "ayCl8bFab3sT"
      },
      "execution_count": 32,
      "outputs": []
    },
    {
      "cell_type": "code",
      "source": [
        "!sed 's/[a-zA-Z]//g' pdt2_output.txt > pdt3_output.txt"
      ],
      "metadata": {
        "id": "HHojIwiDb3sU"
      },
      "execution_count": 33,
      "outputs": []
    },
    {
      "cell_type": "code",
      "source": [
        "!cp pdt3_output.txt ../"
      ],
      "metadata": {
        "id": "4qpS34oafqwz"
      },
      "execution_count": 54,
      "outputs": []
    },
    {
      "cell_type": "markdown",
      "source": [
        "## 3) Regular memory"
      ],
      "metadata": {
        "id": "YCAvXLuJ3Sp0"
      }
    },
    {
      "cell_type": "code",
      "source": [
        "%cd '/content/drive/MyDrive/ColabNotebooks/DD2360/project/gaussian/regular'\n",
        "!ls\n",
        "!make\n",
        "!cp gaussian_regularm ../"
      ],
      "metadata": {
        "colab": {
          "base_uri": "https://localhost:8080/"
        },
        "id": "UFfI7Td-3VeR",
        "outputId": "46aa6725-881b-4710-a007-cfd40743473b"
      },
      "execution_count": 55,
      "outputs": [
        {
          "output_type": "stream",
          "name": "stdout",
          "text": [
            "/content/drive/MyDrive/ColabNotebooks/DD2360/project/gaussian/regular\n",
            "datatrans_regular.txt  Makefile\t\trdt2_output.txt\n",
            "gaussian.cu\t       mdt1_output.txt\trdt3_output.txt\n",
            "gaussian_regularm      rdt1_output.txt\trun.sh\n",
            "/usr/local/cuda/bin/nvcc   gaussian.cu -o gaussian_regularm -I/usr/local/cuda/include -L/usr/local/cuda/lib64 -lcublas\n",
            "gaussian.cu(93): warning: variable \"verbose\" was set but never used\n",
            "\n"
          ]
        }
      ]
    },
    {
      "cell_type": "code",
      "source": [
        "!./gaussian_regularm -s 3"
      ],
      "metadata": {
        "colab": {
          "base_uri": "https://localhost:8080/"
        },
        "id": "B_JZ-iyx5wa7",
        "outputId": "5794979a-8c56-43b6-94d4-ebf69a81fd99"
      },
      "execution_count": 39,
      "outputs": [
        {
          "output_type": "stream",
          "name": "stdout",
          "text": [
            "WG size of kernel 1 = 512, WG size of kernel 2= 4 X 4\n",
            "Create matrix internally in parse, size = 3 \n",
            "\n",
            "Time total (including memory transfers)\t0.076485 sec\n"
          ]
        }
      ]
    },
    {
      "cell_type": "code",
      "source": [
        "!bash ./run.sh"
      ],
      "metadata": {
        "id": "6q_eE8HybvvI"
      },
      "execution_count": null,
      "outputs": []
    },
    {
      "cell_type": "code",
      "source": [
        "!grep 'cudaMalloc' datatrans_regular.txt > rdt1_output.txt"
      ],
      "metadata": {
        "id": "QkRTNYkydr8B"
      },
      "execution_count": 42,
      "outputs": []
    },
    {
      "cell_type": "code",
      "source": [
        "!awk '{print $2}' rdt1_output.txt > rdt2_output.txt"
      ],
      "metadata": {
        "id": "hcZapn4Xdr8B"
      },
      "execution_count": 43,
      "outputs": []
    },
    {
      "cell_type": "code",
      "source": [
        "!sed 's/[a-zA-Z]//g' rdt2_output.txt > rdt3_output.txt"
      ],
      "metadata": {
        "id": "Z_s20Bi4dr8C"
      },
      "execution_count": 44,
      "outputs": []
    },
    {
      "cell_type": "code",
      "source": [
        "!cp rdt3_output.txt ../"
      ],
      "metadata": {
        "id": "eze8Zxz0fkwB"
      },
      "execution_count": 56,
      "outputs": []
    },
    {
      "cell_type": "markdown",
      "source": [
        "# Plot"
      ],
      "metadata": {
        "id": "XEzv7cHy8sKy"
      }
    },
    {
      "cell_type": "markdown",
      "source": [
        "## 1. Data Transferring Time of Gaussian with different memory types"
      ],
      "metadata": {
        "id": "7B3M5aKDcJg5"
      }
    },
    {
      "cell_type": "code",
      "source": [
        "%cd '/content/drive/MyDrive/ColabNotebooks/DD2360/project/gaussian'"
      ],
      "metadata": {
        "colab": {
          "base_uri": "https://localhost:8080/"
        },
        "id": "MljudlOtgAGM",
        "outputId": "af720770-6674-4ed5-ef93-11fb30dd9d52"
      },
      "execution_count": 3,
      "outputs": [
        {
          "output_type": "stream",
          "name": "stdout",
          "text": [
            "/content/drive/MyDrive/ColabNotebooks/DD2360/project/gaussian\n"
          ]
        }
      ]
    },
    {
      "cell_type": "code",
      "source": [
        "import matplotlib.pyplot as plt\n",
        "import math\n",
        "\n",
        "with open(\"mdt3_output.txt\", \"r\") as f: \n",
        "  lines = f.readlines()\n",
        "  data1 = [float(line.strip()) for line in lines]\n",
        "\n",
        "cudaMallocManaged = []\n",
        "for i in range(0,30):\n",
        "  cudaMallocManaged.append(data1[i])\n",
        "print(cudaMallocManaged)\n",
        "\n",
        "with open(\"pdt3_output.txt\", \"r\") as f: \n",
        "  lines = f.readlines()\n",
        "  data2 = [float(line.strip()) for line in lines]\n",
        "\n",
        "cudaMallocHost = []\n",
        "for i in range(0,30):\n",
        "  cudaMallocHost.append(data2[i])\n",
        "print(cudaMallocHost)\n",
        "\n",
        "with open(\"rdt3_output.txt\", \"r\") as f: \n",
        "  lines = f.readlines()\n",
        "  data3 = [float(line.strip()) for line in lines]\n",
        "\n",
        "cudaMalloc = []\n",
        "for i in range(0,30):\n",
        "  cudaMalloc.append(data3[i])\n",
        "print(cudaMalloc)\n",
        "\n",
        "x = []\n",
        "for i in range(102400, 409600, 10240):\n",
        "  x.append(math.log(i))\n",
        "print(x)\n",
        "\n",
        "plt.plot(x, cudaMallocManaged, label='Managed Memory')\n",
        "plt.plot(x, cudaMallocHost, label='Pinned Memory')\n",
        "plt.plot(x, cudaMalloc, label='Regular')\n",
        "\n",
        "plt.xlabel('lg(Input Size)')\n",
        "plt.ylabel('Data Transfer Time(ms)')\n",
        "plt.legend(loc='upper right')\n",
        "plt.title(\"Gaussian Data Transferring Time by Input Size\")\n",
        "plt.show()"
      ],
      "metadata": {
        "colab": {
          "base_uri": "https://localhost:8080/",
          "height": 383
        },
        "id": "0Jx2tOh08uai",
        "outputId": "0e76c376-4c88-45a5-9406-af8cc1385846"
      },
      "execution_count": 9,
      "outputs": [
        {
          "output_type": "stream",
          "name": "stdout",
          "text": [
            "[425.06, 544.5, 408.39, 425.27, 535.33, 381.61, 380.63, 372.63, 507.24, 429.78, 395.39, 354.42, 519.98, 525.38, 535.2, 431.87, 398.84, 525.15, 309.02, 480.85, 454.55, 431.54, 312.01, 315.04, 385.04, 307.12, 307.32, 311.08, 317.5, 316.18]\n",
            "[290.4, 294.79, 297.12, 292.07, 283.23, 278.33, 300.59, 284.76, 349.68, 283.7, 349.31, 286.84, 286.62, 300.09, 282.71, 292.04, 287.0, 282.52, 298.03, 291.87, 293.24, 293.17, 287.76, 494.77, 287.95, 291.24, 281.15, 296.38, 281.33, 287.57]\n",
            "[293.98, 282.57, 280.3, 289.18, 281.61, 293.94, 300.09, 282.36, 280.92, 292.11, 288.36, 293.86, 297.64, 284.65, 286.09, 295.42, 319.67, 304.38, 371.95, 295.88, 281.15, 289.58, 289.17, 278.99, 313.9, 295.98, 295.11, 303.48, 287.59, 290.76]\n",
            "[11.536641991587544, 11.63195217139187, 11.718963548381499, 11.799006256055035, 11.873114228208758, 11.94210709969571, 12.00664562083328, 12.067270242649714, 12.124428656489663, 12.17849587775994, 12.22978917214749, 12.278579336316922, 12.325099351951815, 12.369551114522649, 12.412110728941444, 12.4529327234617, 12.49215343661498, 12.529893764597828, 12.566261408768703, 12.601352728579974, 12.635254280255655, 12.668044103078644, 12.699792801393226, 12.730564460059979, 12.76041742320966, 12.789404960082912, 12.817575837049608, 12.844974811237723, 12.871643058319885, 12.897618544723144]\n"
          ]
        },
        {
          "output_type": "display_data",
          "data": {
            "text/plain": [
              "<Figure size 432x288 with 1 Axes>"
            ],
            "image/png": "[encoded data removed]"
          },
          "metadata": {
            "needs_background": "light"
          }
        }
      ]
    }
  ]
}